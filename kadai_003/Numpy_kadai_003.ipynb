{
  "cells": [
    {
      "cell_type": "code",
      "execution_count": 66,
      "metadata": {
        "colab": {
          "base_uri": "https://localhost:8080/"
        },
        "id": "NLbQte47gHNE",
        "outputId": "01069d56-5fbe-4eb3-bd00-508bdde9fec2"
      },
      "outputs": [
        {
          "name": "stdout",
          "output_type": "stream",
          "text": [
            "Aの配列は:\n",
            "[0 1]\n",
            "[2 3]\n",
            "[4 5]\n",
            "----------\n",
            "Bの配列は:\n",
            "[0 1 2 3]\n",
            "[4 5 6 7]\n",
            "-----------\n",
            "AとBの積は:\n",
            "[4 5 6 7]\n",
            "[12 17 22 27]\n",
            "[20 29 38 47]\n",
            "------------------\n",
            "行列要素の最大値は:\n",
            "47\n"
          ]
        }
      ],
      "source": [
        "#NUMPYをインポート\n",
        "import numpy as np\n",
        "\n",
        "#2次元配列を作成\n",
        "A = np.array([\n",
        " [0,1],\n",
        " [2,3],\n",
        " [4,5]\n",
        " ])\n",
        "print(f\"Aの配列は:\")\n",
        "for i in A:\n",
        "  print(i)\n",
        "\n",
        "B = np.array([\n",
        " [0,1,2,3],\n",
        " [4,5,6,7]\n",
        " ])\n",
        "print(f\"----------\")\n",
        "print(f\"Bの配列は:\")\n",
        "for i in B:\n",
        "  print(i)\n",
        "\n",
        "#積を出す\n",
        "AB_product = np.dot(A,B)\n",
        "print(f\"-----------\")\n",
        "print(f\"AとBの積は:\")\n",
        "for i in AB_product:\n",
        "  print(i)\n",
        "\n",
        "#最大値を出す\n",
        "AB_MAX=AB_product.max()\n",
        "print(f\"------------------\")\n",
        "print(f\"行列要素の最大値は:\")\n",
        "print(AB_MAX)"
      ]
    },
    {
      "cell_type": "code",
      "execution_count": null,
      "metadata": {
        "id": "3DqEhfEPgy4J"
      },
      "outputs": [],
      "source": []
    },
    {
      "cell_type": "code",
      "execution_count": null,
      "metadata": {
        "id": "3rQvJklml2dn"
      },
      "outputs": [],
      "source": []
    }
  ],
  "metadata": {
    "colab": {
      "provenance": []
    },
    "kernelspec": {
      "display_name": "Python 3",
      "name": "python3"
    },
    "language_info": {
      "name": "python"
    }
  },
  "nbformat": 4,
  "nbformat_minor": 0
}
