{
  "nbformat": 4,
  "nbformat_minor": 0,
  "metadata": {
    "colab": {
      "provenance": []
    },
    "kernelspec": {
      "name": "python3",
      "display_name": "Python 3"
    },
    "language_info": {
      "name": "python"
    }
  },
  "cells": [
    {
      "cell_type": "code",
      "execution_count": 66,
      "metadata": {
        "colab": {
          "base_uri": "https://localhost:8080/"
        },
        "id": "NLbQte47gHNE",
        "outputId": "01069d56-5fbe-4eb3-bd00-508bdde9fec2"
      },
      "outputs": [
        {
          "output_type": "stream",
          "name": "stdout",
          "text": [
            "Aの配列は:\n",
            "[0 1]\n",
            "[2 3]\n",
            "[4 5]\n",
            "----------\n",
            "Bの配列は:\n",
            "[0 1 2 3]\n",
            "[4 5 6 7]\n",
            "-----------\n",
            "AとBの積は:\n",
            "[4 5 6 7]\n",
            "[12 17 22 27]\n",
            "[20 29 38 47]\n",
            "------------------\n",
            "行列要素の最大値は:\n",
            "47\n"
          ]
        }
      ],
      "source": [
        "#NUMPYをインポート\n",
        "import numpy as np\n",
        "\n",
        "#2次元配列を作成\n",
        "A = np.array([\n",
        " [0,1],\n",
        " [2,3],\n",
        " [4,5]\n",
        " ])\n",
        "print(f\"Aの配列は:\")\n",
        "for i in A:\n",
        "  print(i)\n",
        "\n",
        "B = np.array([\n",
        " [0,1,2,3],\n",
        " [4,5,6,7]\n",
        " ])\n",
        "print(f\"----------\")\n",
        "print(f\"Bの配列は:\")\n",
        "for i in B:\n",
        "  print(i)\n",
        "\n",
        "#積を出す\n",
        "AB_product = np.dot(A,B)\n",
        "print(f\"-----------\")\n",
        "print(f\"AとBの積は:\")\n",
        "for i in AB_product:\n",
        "  print(i)\n",
        "\n",
        "#最大値を出す\n",
        "AB_MAX=AB_product.max()\n",
        "print(f\"------------------\")\n",
        "print(f\"行列要素の最大値は:\")\n",
        "print(AB_MAX)"
      ]
    },
    {
      "cell_type": "code",
      "source": [],
      "metadata": {
        "id": "3DqEhfEPgy4J"
      },
      "execution_count": null,
      "outputs": []
    },
    {
      "cell_type": "code",
      "source": [],
      "metadata": {
        "id": "3rQvJklml2dn"
      },
      "execution_count": null,
      "outputs": []
    }
  ]
}