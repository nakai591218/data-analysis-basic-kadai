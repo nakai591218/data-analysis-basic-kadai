{
  "nbformat": 4,
  "nbformat_minor": 0,
  "metadata": {
    "colab": {
      "provenance": []
    },
    "kernelspec": {
      "name": "python3",
      "display_name": "Python 3"
    },
    "language_info": {
      "name": "python"
    }
  },
  "cells": [
    {
      "cell_type": "code",
      "execution_count": 19,
      "metadata": {
        "colab": {
          "base_uri": "https://localhost:8080/"
        },
        "id": "3W9mb4SwQcuy",
        "outputId": "815cafd0-11f6-4e51-a8e8-84fdb92069c2"
      },
      "outputs": [
        {
          "output_type": "execute_result",
          "data": {
            "text/plain": [
              "0.9259259259259259"
            ]
          },
          "metadata": {},
          "execution_count": 19
        }
      ],
      "source": [
        "#ワインサンプルデータの取得\n",
        "#特徴と種別に分ける\n",
        "from sklearn.datasets import load_wine\n",
        "dataset = load_wine()\n",
        "X =dataset.data\n",
        "y =dataset.target\n",
        "\n",
        "#テストデータと学習データをそれぞれに分ける\n",
        "from sklearn.model_selection import train_test_split\n",
        "X_train, X_test, y_train, y_test = train_test_split(X, y, test_size=0.3, random_state=5)\n",
        "\n",
        "#-------------------------------------------------\n",
        "#------決定木モデルを使って評価する---------------\n",
        "#-------------------------------------------------\n",
        "\n",
        "from sklearn.tree import DecisionTreeClassifier\n",
        "model = DecisionTreeClassifier(random_state=3)\n",
        "\n",
        "model.fit(X_train, y_train)\n",
        "y_pred = model.predict(X_test)\n",
        "\n",
        "# #性能評価をする\n",
        "from sklearn.metrics import accuracy_score\n",
        "accuracy_score(y_test, y_pred)"
      ]
    },
    {
      "cell_type": "code",
      "source": [
        "#ワインサンプルデータの取得\n",
        "#特徴と種別に分ける\n",
        "from sklearn.datasets import load_wine\n",
        "dataset = load_wine()\n",
        "X =dataset.data\n",
        "y =dataset.target\n",
        "\n",
        "#テストデータと学習データをそれぞれに分ける\n",
        "from sklearn.model_selection import train_test_split\n",
        "X_train, X_test, y_train, y_test = train_test_split(X, y, test_size=0.3, random_state=5)\n",
        "\n",
        "#-------------------------------------------------\n",
        "#------ランダムフォレストを使って評価する--------\n",
        "#-------------------------------------------------\n",
        "from sklearn.ensemble import RandomForestClassifier\n",
        "model = RandomForestClassifier(random_state=3)\n",
        "\n",
        "model.fit(X_train, y_train)\n",
        "y_pred = model.predict(X_test)\n",
        "\n",
        "# #性能評価をする\n",
        "from sklearn.metrics import accuracy_score\n",
        "accuracy_score(y_test, y_pred)"
      ],
      "metadata": {
        "colab": {
          "base_uri": "https://localhost:8080/"
        },
        "id": "H_9tGqq_Sexs",
        "outputId": "3c0dcda0-abdf-4fed-a240-d7af4b284a20"
      },
      "execution_count": 34,
      "outputs": [
        {
          "output_type": "execute_result",
          "data": {
            "text/plain": [
              "0.9629629629629629"
            ]
          },
          "metadata": {},
          "execution_count": 34
        }
      ]
    },
    {
      "cell_type": "code",
      "source": [],
      "metadata": {
        "id": "oFXs1mN8Y1nV"
      },
      "execution_count": null,
      "outputs": []
    }
  ]
}